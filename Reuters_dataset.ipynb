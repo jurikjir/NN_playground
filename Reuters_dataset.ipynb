{
 "cells": [
  {
   "cell_type": "code",
   "execution_count": 57,
   "metadata": {},
   "outputs": [],
   "source": [
    "from keras.datasets import reuters\n",
    "from keras.utils.np_utils import to_categorical\n",
    "from keras import models, layers\n",
    "\n",
    "import numpy as np\n",
    "\n",
    "import matplotlib.pyplot as plt\n",
    "%matplotlib inline"
   ]
  },
  {
   "cell_type": "code",
   "execution_count": 2,
   "metadata": {},
   "outputs": [
    {
     "name": "stdout",
     "output_type": "stream",
     "text": [
      "Downloading data from https://s3.amazonaws.com/text-datasets/reuters.npz\n",
      "2113536/2110848 [==============================] - 1s 0us/step\n"
     ]
    }
   ],
   "source": [
    "(train_data, train_labels), (test_data, test_labels) = reuters.load_data(num_words=10000)"
   ]
  },
  {
   "cell_type": "code",
   "execution_count": 38,
   "metadata": {},
   "outputs": [
    {
     "name": "stdout",
     "output_type": "stream",
     "text": [
      "The length of train data is 8982 and length of test data is 2246\n"
     ]
    }
   ],
   "source": [
    "print(\"The length of train data is {} and length of test data is {}\".format(len(train_data), len(test_data)))"
   ]
  },
  {
   "cell_type": "code",
   "execution_count": 39,
   "metadata": {},
   "outputs": [
    {
     "data": {
      "text/plain": [
       "'? ? ? said as a result of its december acquisition of space co it expects earnings per share in 1987 of 1 15 to 1 30 dlrs per share up from 70 cts in 1986 the company said pretax net should rise to nine to 10 mln dlrs from six mln dlrs in 1986 and rental operation revenues to 19 to 22 mln dlrs from 12 5 mln dlrs it said cash flow per share this year should be 2 50 to three dlrs reuter 3'"
      ]
     },
     "execution_count": 39,
     "metadata": {},
     "output_type": "execute_result"
    }
   ],
   "source": [
    "word_index = reuters.get_word_index()\n",
    "reverse_word_index = dict([(value, key) for (key, value) in word_index.items()])\n",
    "decoded_newshire = \" \".join([reverse_word_index.get(i-3, \"?\") for i in train_data[0]])\n",
    "decoded_newshire"
   ]
  },
  {
   "cell_type": "code",
   "execution_count": 40,
   "metadata": {},
   "outputs": [],
   "source": [
    "def vectorize_sequence(sequences, dimension=10000):\n",
    "    results = np.zeros((len(sequences), dimension))\n",
    "    for i, sequence in enumerate(sequences):\n",
    "        results[i, sequence] = 1\n",
    "    return results"
   ]
  },
  {
   "cell_type": "code",
   "execution_count": 41,
   "metadata": {},
   "outputs": [],
   "source": [
    "X_train = vectorize_sequence(train_data)\n",
    "X_test = vectorize_sequence(test_data)"
   ]
  },
  {
   "cell_type": "code",
   "execution_count": 42,
   "metadata": {},
   "outputs": [],
   "source": [
    "def to_one_hot(labels, dimension=46):\n",
    "    results = np.zeros((len(labels), dimension))\n",
    "    for i, label in enumerate(labels):\n",
    "        results[i, label] = 1\n",
    "    return results"
   ]
  },
  {
   "cell_type": "code",
   "execution_count": 43,
   "metadata": {},
   "outputs": [],
   "source": [
    "one_hot_train_labels = to_one_hot(train_labels)\n",
    "one_hot_test_labels = to_one_hot(test_labels)"
   ]
  },
  {
   "cell_type": "code",
   "execution_count": 44,
   "metadata": {},
   "outputs": [],
   "source": [
    "model = models.Sequential()\n",
    "model.add(layers.Dense(64, activation=\"relu\", input_shape=(10000,)))\n",
    "model.add(layers.Dense(64, activation=\"relu\"))\n",
    "model.add(layers.Dense(46, activation=\"softmax\"))\n",
    "\n",
    "model.compile(optimizer=\"rmsprop\",\n",
    "             loss=\"categorical_crossentropy\",\n",
    "             metrics=[\"accuracy\"])"
   ]
  },
  {
   "cell_type": "code",
   "execution_count": 53,
   "metadata": {},
   "outputs": [],
   "source": [
    "X_val = X_train[:1000]\n",
    "partial_X_train = X_train[1000:]\n",
    "\n",
    "y_val = one_hot_train_labels[:1000]\n",
    "partial_y_train = one_hot_train_labels[1000:]"
   ]
  },
  {
   "cell_type": "code",
   "execution_count": 54,
   "metadata": {
    "scrolled": true
   },
   "outputs": [
    {
     "name": "stdout",
     "output_type": "stream",
     "text": [
      "Train on 7982 samples, validate on 1000 samples\n",
      "Epoch 1/20\n",
      "7982/7982 [==============================] - 2s 287us/step - loss: 2.6832 - accuracy: 0.4994 - val_loss: 1.8194 - val_accuracy: 0.6390\n",
      "Epoch 2/20\n",
      "7982/7982 [==============================] - 2s 196us/step - loss: 1.4627 - accuracy: 0.7053 - val_loss: 1.3375 - val_accuracy: 0.7230\n",
      "Epoch 3/20\n",
      "7982/7982 [==============================] - 2s 191us/step - loss: 1.0688 - accuracy: 0.7762 - val_loss: 1.1819 - val_accuracy: 0.7330\n",
      "Epoch 4/20\n",
      "7982/7982 [==============================] - 1s 187us/step - loss: 0.8332 - accuracy: 0.8241 - val_loss: 1.0537 - val_accuracy: 0.7780\n",
      "Epoch 5/20\n",
      "7982/7982 [==============================] - 1s 187us/step - loss: 0.6637 - accuracy: 0.8601 - val_loss: 0.9836 - val_accuracy: 0.7960\n",
      "Epoch 6/20\n",
      "7982/7982 [==============================] - 2s 200us/step - loss: 0.5288 - accuracy: 0.8904 - val_loss: 0.9633 - val_accuracy: 0.7990\n",
      "Epoch 7/20\n",
      "7982/7982 [==============================] - 2s 194us/step - loss: 0.4326 - accuracy: 0.9093 - val_loss: 0.9241 - val_accuracy: 0.8080\n",
      "Epoch 8/20\n",
      "7982/7982 [==============================] - 2s 204us/step - loss: 0.3450 - accuracy: 0.9267 - val_loss: 0.9033 - val_accuracy: 0.8210\n",
      "Epoch 9/20\n",
      "7982/7982 [==============================] - 2s 189us/step - loss: 0.2863 - accuracy: 0.9400 - val_loss: 0.9388 - val_accuracy: 0.8030\n",
      "Epoch 10/20\n",
      "7982/7982 [==============================] - 2s 194us/step - loss: 0.2396 - accuracy: 0.9454 - val_loss: 0.9413 - val_accuracy: 0.8120\n",
      "Epoch 11/20\n",
      "7982/7982 [==============================] - 2s 197us/step - loss: 0.2145 - accuracy: 0.9479 - val_loss: 0.9437 - val_accuracy: 0.8070\n",
      "Epoch 12/20\n",
      "7982/7982 [==============================] - 2s 204us/step - loss: 0.1845 - accuracy: 0.9518 - val_loss: 0.9565 - val_accuracy: 0.8130\n",
      "Epoch 13/20\n",
      "7982/7982 [==============================] - 2s 193us/step - loss: 0.1712 - accuracy: 0.9513 - val_loss: 1.0151 - val_accuracy: 0.8030\n",
      "Epoch 14/20\n",
      "7982/7982 [==============================] - 2s 192us/step - loss: 0.1486 - accuracy: 0.9545 - val_loss: 1.0143 - val_accuracy: 0.8180\n",
      "Epoch 15/20\n",
      "7982/7982 [==============================] - 2s 190us/step - loss: 0.1453 - accuracy: 0.9536 - val_loss: 0.9942 - val_accuracy: 0.8190\n",
      "Epoch 16/20\n",
      "7982/7982 [==============================] - 2s 201us/step - loss: 0.1339 - accuracy: 0.9582 - val_loss: 1.0462 - val_accuracy: 0.8130\n",
      "Epoch 17/20\n",
      "7982/7982 [==============================] - 1s 186us/step - loss: 0.1299 - accuracy: 0.9555 - val_loss: 1.0377 - val_accuracy: 0.8120\n",
      "Epoch 18/20\n",
      "7982/7982 [==============================] - 2s 191us/step - loss: 0.1222 - accuracy: 0.9564 - val_loss: 1.0500 - val_accuracy: 0.8130\n",
      "Epoch 19/20\n",
      "7982/7982 [==============================] - 2s 192us/step - loss: 0.1165 - accuracy: 0.9570 - val_loss: 1.1514 - val_accuracy: 0.7920\n",
      "Epoch 20/20\n",
      "7982/7982 [==============================] - 2s 192us/step - loss: 0.1165 - accuracy: 0.9565 - val_loss: 1.0840 - val_accuracy: 0.8070\n"
     ]
    }
   ],
   "source": [
    "history = model.fit(partial_X_train,\n",
    "                   partial_y_train,\n",
    "                   epochs=20,\n",
    "                   batch_size=512,\n",
    "                   validation_data=(X_val, y_val))"
   ]
  },
  {
   "cell_type": "code",
   "execution_count": 56,
   "metadata": {},
   "outputs": [],
   "source": [
    "loss = history.history[\"loss\"]\n",
    "val_loss = history.history[\"val_loss\"]\n",
    "acc = history.history[\"accuracy\"]\n",
    "val_acc = history.history[\"val_accuracy\"]\n",
    "\n",
    "epochs = range(1, len(loss) + 1)"
   ]
  },
  {
   "cell_type": "code",
   "execution_count": 58,
   "metadata": {},
   "outputs": [
    {
     "data": {
      "image/png": "[encoded data removed]",
      "text/plain": [
       "<Figure size 1152x576 with 1 Axes>"
      ]
     },
     "metadata": {
      "needs_background": "light"
     },
     "output_type": "display_data"
    }
   ],
   "source": [
    "plt.figure(figsize=(16,8))\n",
    "plt.plot(epochs, loss, \"bo\", label=\"Training loss\")\n",
    "plt.plot(epochs, val_loss, \"b\", label=\"Validatin loss\")\n",
    "plt.title(\"Training and validation loss\")\n",
    "plt.xlabel(\"Epochs\")\n",
    "plt.ylabel(\"Loss\")\n",
    "plt.legend()\n",
    "plt.show()"
   ]
  },
  {
   "cell_type": "code",
   "execution_count": 59,
   "metadata": {},
   "outputs": [
    {
     "data": {
      "image/png": "[encoded data removed]",
      "text/plain": [
       "<Figure size 1152x576 with 1 Axes>"
      ]
     },
     "metadata": {
      "needs_background": "light"
     },
     "output_type": "display_data"
    }
   ],
   "source": [
    "plt.figure(figsize=(16,8))\n",
    "plt.plot(epochs, acc, \"bo\", label=\"Training accuracy\")\n",
    "plt.plot(epochs, val_acc, \"b\", label=\"Validatin accuracy\")\n",
    "plt.title(\"Training and validation accuracy\")\n",
    "plt.xlabel(\"Epochs\")\n",
    "plt.ylabel(\"Accuracy\")\n",
    "plt.legend()\n",
    "plt.show()"
   ]
  },
  {
   "cell_type": "code",
   "execution_count": null,
   "metadata": {},
   "outputs": [],
   "source": []
  },
  {
   "cell_type": "code",
   "execution_count": null,
   "metadata": {},
   "outputs": [],
   "source": []
  },
  {
   "cell_type": "code",
   "execution_count": null,
   "metadata": {},
   "outputs": [],
   "source": []
  }
 ],
 "metadata": {
  "kernelspec": {
   "display_name": "Python 3",
   "language": "python",
   "name": "python3"
  },
  "language_info": {
   "codemirror_mode": {
    "name": "ipython",
    "version": 3
   },
   "file_extension": ".py",
   "mimetype": "text/x-python",
   "name": "python",
   "nbconvert_exporter": "python",
   "pygments_lexer": "ipython3",
   "version": "3.7.3"
  }
 },
 "nbformat": 4,
 "nbformat_minor": 2
}
