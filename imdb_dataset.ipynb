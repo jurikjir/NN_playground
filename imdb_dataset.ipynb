{
 "cells": [
  {
   "cell_type": "code",
   "execution_count": 16,
   "metadata": {},
   "outputs": [],
   "source": [
    "from keras.datasets import imdb\n",
    "from keras import models\n",
    "from keras import layers\n",
    "\n",
    "import numpy as np\n",
    "\n",
    "import matplotlib.pyplot as plt\n",
    "%matplotlib inline"
   ]
  },
  {
   "cell_type": "code",
   "execution_count": 2,
   "metadata": {},
   "outputs": [
    {
     "name": "stdout",
     "output_type": "stream",
     "text": [
      "Downloading data from https://s3.amazonaws.com/text-datasets/imdb.npz\n",
      "17465344/17464789 [==============================] - 14s 1us/step\n"
     ]
    }
   ],
   "source": [
    "(train_data, train_labels), (test_data, test_labels) = imdb.load_data(num_words=10000)"
   ]
  },
  {
   "cell_type": "code",
   "execution_count": 3,
   "metadata": {},
   "outputs": [
    {
     "data": {
      "text/plain": [
       "9999"
      ]
     },
     "execution_count": 3,
     "metadata": {},
     "output_type": "execute_result"
    }
   ],
   "source": [
    "max([max(sequence) for sequence in train_data])"
   ]
  },
  {
   "cell_type": "code",
   "execution_count": 7,
   "metadata": {},
   "outputs": [],
   "source": [
    "word_index = imdb.get_word_index()\n",
    "\n",
    "reverse_word_index = dict(\n",
    "    [(value, key) for (key, value) in word_index.items()])\n",
    "\n",
    "decoded_review = \" \".join([reverse_word_index.get(i-3, \"?\") for i in train_data[0]])"
   ]
  },
  {
   "cell_type": "code",
   "execution_count": 8,
   "metadata": {},
   "outputs": [
    {
     "data": {
      "text/plain": [
       "\"? this film was just brilliant casting location scenery story direction everyone's really suited the part they played and you could just imagine being there robert ? is an amazing actor and now the same being director ? father came from the same scottish island as myself so i loved the fact there was a real connection with this film the witty remarks throughout the film were great it was just brilliant so much that i bought the film as soon as it was released for ? and would recommend it to everyone to watch and the fly fishing was amazing really cried at the end it was so sad and you know what they say if you cry at a film it must have been good and this definitely was also ? to the two little boy's that played the ? of norman and paul they were just brilliant children are often left out of the ? list i think because the stars that play them all grown up are such a big profile for the whole film but these children are amazing and should be praised for what they have done don't you think the whole story was so lovely because it was true and was someone's life after all that was shared with us all\""
      ]
     },
     "execution_count": 8,
     "metadata": {},
     "output_type": "execute_result"
    }
   ],
   "source": [
    "decoded_review"
   ]
  },
  {
   "cell_type": "code",
   "execution_count": 10,
   "metadata": {},
   "outputs": [],
   "source": [
    "def vectorize_sequence(sequences, dimension=10000):\n",
    "    results = np.zeros((len(sequences), dimension))\n",
    "    for i, sequence in enumerate(sequences):\n",
    "        results[i, sequence] = 1\n",
    "    return results"
   ]
  },
  {
   "cell_type": "code",
   "execution_count": 11,
   "metadata": {},
   "outputs": [],
   "source": [
    "X_train = vectorize_sequence(train_data)\n",
    "X_test = vectorize_sequence(test_data)\n",
    "\n",
    "y_train = np.asarray(train_labels).astype(\"float32\")\n",
    "y_test = np.asarray(test_labels).astype(\"float32\")"
   ]
  },
  {
   "cell_type": "code",
   "execution_count": 14,
   "metadata": {},
   "outputs": [],
   "source": [
    "model = models.Sequential()\n",
    "model.add(layers.Dense(16, activation=\"relu\", input_shape=(10000,)))\n",
    "model.add(layers.Dense(16, activation=\"relu\"))\n",
    "model.add(layers.Dense(1, activation=\"sigmoid\"))\n",
    "\n",
    "model.compile(optimizer=\"rmsprop\",\n",
    "             loss=\"binary_crossentropy\",\n",
    "             metrics=[\"accuracy\"])"
   ]
  },
  {
   "cell_type": "code",
   "execution_count": 15,
   "metadata": {},
   "outputs": [],
   "source": [
    "X_val = X_train[:10000]\n",
    "partial_X_train = X_train[10000:]\n",
    "\n",
    "y_val = y_train[:10000]\n",
    "partial_y_train = y_train[10000:]"
   ]
  },
  {
   "cell_type": "code",
   "execution_count": 18,
   "metadata": {
    "scrolled": true
   },
   "outputs": [
    {
     "name": "stdout",
     "output_type": "stream",
     "text": [
      "Train on 15000 samples, validate on 10000 samples\n",
      "Epoch 1/20\n",
      "15000/15000 [==============================] - 8s 550us/step - loss: 0.5366 - accuracy: 0.7904 - val_loss: 0.4106 - val_accuracy: 0.8662\n",
      "Epoch 2/20\n",
      "15000/15000 [==============================] - 3s 232us/step - loss: 0.3280 - accuracy: 0.8969 - val_loss: 0.3328 - val_accuracy: 0.8683\n",
      "Epoch 3/20\n",
      "15000/15000 [==============================] - 3s 225us/step - loss: 0.2370 - accuracy: 0.9232 - val_loss: 0.2826 - val_accuracy: 0.8924\n",
      "Epoch 4/20\n",
      "15000/15000 [==============================] - 3s 213us/step - loss: 0.1869 - accuracy: 0.9401 - val_loss: 0.2757 - val_accuracy: 0.8893\n",
      "Epoch 5/20\n",
      "15000/15000 [==============================] - 3s 224us/step - loss: 0.1491 - accuracy: 0.9530 - val_loss: 0.2789 - val_accuracy: 0.8881\n",
      "Epoch 6/20\n",
      "15000/15000 [==============================] - 3s 211us/step - loss: 0.1233 - accuracy: 0.9611 - val_loss: 0.2913 - val_accuracy: 0.8883\n",
      "Epoch 7/20\n",
      "15000/15000 [==============================] - 4s 238us/step - loss: 0.1014 - accuracy: 0.9697 - val_loss: 0.3551 - val_accuracy: 0.8732\n",
      "Epoch 8/20\n",
      "15000/15000 [==============================] - 3s 206us/step - loss: 0.0832 - accuracy: 0.9761 - val_loss: 0.3304 - val_accuracy: 0.8805\n",
      "Epoch 9/20\n",
      "15000/15000 [==============================] - 3s 212us/step - loss: 0.0695 - accuracy: 0.9799 - val_loss: 0.3620 - val_accuracy: 0.8788\n",
      "Epoch 10/20\n",
      "15000/15000 [==============================] - 3s 226us/step - loss: 0.0552 - accuracy: 0.9862 - val_loss: 0.4023 - val_accuracy: 0.8696\n",
      "Epoch 11/20\n",
      "15000/15000 [==============================] - 3s 214us/step - loss: 0.0466 - accuracy: 0.9884 - val_loss: 0.4046 - val_accuracy: 0.8759\n",
      "Epoch 12/20\n",
      "15000/15000 [==============================] - 3s 209us/step - loss: 0.0372 - accuracy: 0.9921 - val_loss: 0.4483 - val_accuracy: 0.8694\n",
      "Epoch 13/20\n",
      "15000/15000 [==============================] - 3s 212us/step - loss: 0.0290 - accuracy: 0.9944 - val_loss: 0.4720 - val_accuracy: 0.8694\n",
      "Epoch 14/20\n",
      "15000/15000 [==============================] - 3s 213us/step - loss: 0.0233 - accuracy: 0.9957 - val_loss: 0.5028 - val_accuracy: 0.8734\n",
      "Epoch 15/20\n",
      "15000/15000 [==============================] - 3s 211us/step - loss: 0.0171 - accuracy: 0.9975 - val_loss: 0.5863 - val_accuracy: 0.8656\n",
      "Epoch 16/20\n",
      "15000/15000 [==============================] - 3s 222us/step - loss: 0.0133 - accuracy: 0.9983 - val_loss: 0.5627 - val_accuracy: 0.8683\n",
      "Epoch 17/20\n",
      "15000/15000 [==============================] - 3s 215us/step - loss: 0.0109 - accuracy: 0.9991 - val_loss: 0.6113 - val_accuracy: 0.8629\n",
      "Epoch 18/20\n",
      "15000/15000 [==============================] - 3s 208us/step - loss: 0.0088 - accuracy: 0.9990 - val_loss: 0.6396 - val_accuracy: 0.8696\n",
      "Epoch 19/20\n",
      "15000/15000 [==============================] - 3s 209us/step - loss: 0.0100 - accuracy: 0.9977 - val_loss: 0.6715 - val_accuracy: 0.8691\n",
      "Epoch 20/20\n",
      "15000/15000 [==============================] - 3s 207us/step - loss: 0.0035 - accuracy: 0.9999 - val_loss: 0.6996 - val_accuracy: 0.8663\n"
     ]
    }
   ],
   "source": [
    "history = model.fit(partial_X_train,\n",
    "                   partial_y_train,\n",
    "                   epochs=20,\n",
    "                   batch_size=512,\n",
    "                   validation_data=(X_val, y_val))"
   ]
  },
  {
   "cell_type": "code",
   "execution_count": 19,
   "metadata": {},
   "outputs": [
    {
     "data": {
      "text/plain": [
       "dict_keys(['val_loss', 'val_accuracy', 'loss', 'accuracy'])"
      ]
     },
     "execution_count": 19,
     "metadata": {},
     "output_type": "execute_result"
    }
   ],
   "source": [
    "history_dict = history.history\n",
    "history_dict.keys()"
   ]
  },
  {
   "cell_type": "code",
   "execution_count": 21,
   "metadata": {},
   "outputs": [],
   "source": [
    "loss_values = history_dict[\"loss\"]\n",
    "val_los_values = history_dict[\"val_loss\"]\n",
    "\n",
    "epochs = range(1, len(loss_values) + 1)"
   ]
  },
  {
   "cell_type": "code",
   "execution_count": 24,
   "metadata": {},
   "outputs": [
    {
     "data": {
      "image/png": "[encoded data removed]",
      "text/plain": [
       "<Figure size 1152x576 with 1 Axes>"
      ]
     },
     "metadata": {
      "needs_background": "light"
     },
     "output_type": "display_data"
    }
   ],
   "source": [
    "plt.figure(figsize=(16,8))\n",
    "plt.plot(epochs, loss_values, \"bo\", label=\"Training loss\")\n",
    "plt.plot(epochs, val_los_values, \"b\", label=\"Validation loss\")\n",
    "plt.title(\"Training and validation loss\")\n",
    "plt.xlabel(\"Epochs\")\n",
    "plt.ylabel(\"Loss\")\n",
    "plt.legend()\n",
    "plt.show()"
   ]
  },
  {
   "cell_type": "code",
   "execution_count": 25,
   "metadata": {},
   "outputs": [],
   "source": [
    "acc = history_dict[\"accuracy\"]\n",
    "val_acc = history_dict[\"val_accuracy\"]"
   ]
  },
  {
   "cell_type": "code",
   "execution_count": 27,
   "metadata": {},
   "outputs": [
    {
     "data": {
      "text/plain": [
       "<matplotlib.legend.Legend at 0x1a1380cba58>"
      ]
     },
     "execution_count": 27,
     "metadata": {},
     "output_type": "execute_result"
    },
    {
     "data": {
      "image/png": "[encoded data removed]",
      "text/plain": [
       "<Figure size 1152x576 with 1 Axes>"
      ]
     },
     "metadata": {
      "needs_background": "light"
     },
     "output_type": "display_data"
    }
   ],
   "source": [
    "plt.figure(figsize=(16,8))\n",
    "plt.plot(epochs, acc, \"bo\", label=\"Training accuracy\")\n",
    "plt.plot(epochs, val_acc, \"b\", label=\"Validation accuracy\")\n",
    "plt.title(\"Training and validation accuracy\")\n",
    "plt.xlabel(\"Epochs\")\n",
    "plt.ylabel(\"Accuracy\")\n",
    "plt.legend()"
   ]
  },
  {
   "cell_type": "code",
   "execution_count": null,
   "metadata": {},
   "outputs": [],
   "source": []
  },
  {
   "cell_type": "code",
   "execution_count": null,
   "metadata": {},
   "outputs": [],
   "source": []
  }
 ],
 "metadata": {
  "kernelspec": {
   "display_name": "Python 3",
   "language": "python",
   "name": "python3"
  },
  "language_info": {
   "codemirror_mode": {
    "name": "ipython",
    "version": 3
   },
   "file_extension": ".py",
   "mimetype": "text/x-python",
   "name": "python",
   "nbconvert_exporter": "python",
   "pygments_lexer": "ipython3",
   "version": "3.7.3"
  }
 },
 "nbformat": 4,
 "nbformat_minor": 2
}
